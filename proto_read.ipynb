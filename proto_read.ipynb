{
 "cells": [
  {
   "metadata": {},
   "cell_type": "markdown",
   "source": [
    "To process Protocol Buffers binary file, we need to:\n",
    "1. Install required protobuf package (already installed)\n",
    "2. Generate Python code from .proto file\n",
    "3. Read and parse the binary file using generated code"
   ],
   "id": "607c812d453e1a3d"
  },
  {
   "metadata": {
    "ExecuteTime": {
     "end_time": "2025-04-19T20:46:14.410761Z",
     "start_time": "2025-04-19T20:46:14.207422Z"
    }
   },
   "cell_type": "code",
   "source": "!protoc --proto_path=/Volumes/Samsung990_2TB_01/Projects/CLionProjects/firmwarePAX/protobufs/meshtastic --python_out=. paxcount.proto",
   "id": "78ab2ecc6e1b7cfc",
   "outputs": [],
   "execution_count": 2
  },
  {
   "metadata": {
    "ExecuteTime": {
     "end_time": "2025-04-19T20:50:49.406683Z",
     "start_time": "2025-04-19T20:50:49.398756Z"
    }
   },
   "cell_type": "code",
   "source": [
    "import paxcount_pb2\n",
    "\n",
    "with open('proto_dump2.bin', 'rb') as f:\n",
    "    pax_list = paxcount_pb2.PaxList()\n",
    "    pax_list.ParseFromString(f.read())\n",
    "\n",
    "print(pax_list)"
   ],
   "id": "7ebe71ed155b3582",
   "outputs": [
    {
     "name": "stdout",
     "output_type": "stream",
     "text": [
      "devices {\n",
      "  mac_address: \"[ 6230\"\n",
      "  device_type: DEVICE_TYPE_BLE\n",
      "  rssi: 108\n",
      "  timestamp: 1663989857\n",
      "}\n",
      "devices {\n",
      "  mac_address: \"pp:191\"\n",
      "  device_type: DEVICE_TYPE_BLE\n",
      "  rssi: 97\n",
      "  timestamp: 1601467241\n",
      "}\n",
      "devices {\n",
      "  mac_address: \"device\"\n",
      "  device_type: DEVICE_TYPE_BLE\n",
      "  rssi: 108\n",
      "  timestamp: 542996577\n",
      "}\n",
      "devices {\n",
      "  mac_address: \"[DEBUG\"\n",
      "  device_type: DEVICE_TYPE_BLE\n",
      "  rssi: 99\n",
      "  timestamp: 1830840174\n",
      "}\n",
      "devices {\n",
      "  mac_address: \"emory \"\n",
      "  device_type: DEVICE_TYPE_BLE\n",
      "  rssi: 100\n",
      "  timestamp: 544433507\n",
      "}\n",
      "devices {\n",
      "  mac_address: \"(180 b\"\n",
      "  device_type: DEVICE_TYPE_BLE\n",
      "  rssi: 10\n",
      "  timestamp: 1070416276\n",
      "}\n",
      "devices {\n",
      "  mac_address: \"?\\000\\000\\000\\224\\374\"\n",
      "  device_type: DEVICE_TYPE_BLE\n",
      "  rssi: 4\n",
      "  timestamp: 771817473\n",
      "}\n",
      "devices {\n",
      "  mac_address: \"\\023\\203\\007\\225U\\023\"\n",
      "  device_type: DEVICE_TYPE_BLE\n",
      "  rssi: 12\n",
      "  timestamp: 527894288\n",
      "}\n",
      "devices {\n",
      "  mac_address: \"_\\362G\\265H\\322\"\n",
      "  device_type: DEVICE_TYPE_BLE\n",
      "  rssi: 174\n",
      "  timestamp: 43\n",
      "}\n",
      "count: 9\n",
      "capacity: 10\n",
      "\n"
     ]
    }
   ],
   "execution_count": 6
  },
  {
   "metadata": {},
   "cell_type": "markdown",
   "source": [
    "This code will:\n",
    "1. Generate Python classes from your .proto file using protoc compiler\n",
    "2. Import generated code as paxcount_pb2\n",
    "3. Read binary file and parse it into PaxList message object\n",
    "4. Print parsed message contents\n"
   ],
   "id": "476e4ed6fcbca7cc"
  },
  {
   "metadata": {
    "ExecuteTime": {
     "end_time": "2025-04-19T20:50:52.219424Z",
     "start_time": "2025-04-19T20:50:52.214691Z"
    }
   },
   "cell_type": "code",
   "source": [
    "import json\n",
    "from google.protobuf.json_format import MessageToJson\n",
    "import binascii\n",
    "\n",
    "# Convert protobuf message to JSON string and parse it\n",
    "json_str = MessageToJson(pax_list)\n",
    "json_data = json.loads(json_str)\n",
    "\n",
    "# Convert base64 MAC addresses to hex format\n",
    "for device in json_data.get('devices', []):\n",
    "    if 'macAddress' in device:\n",
    "        # Decode base64 and convert to hex MAC address format\n",
    "        mac_bytes = binascii.a2b_base64(device['macAddress'])\n",
    "        mac_hex = ':'.join([f'{b:02x}' for b in mac_bytes])\n",
    "        device['macAddress'] = mac_hex\n",
    "\n",
    "# Pretty print the JSON with nested contents\n",
    "print(json.dumps(json_data, indent=2))\n"
   ],
   "id": "e51f2ef8ed66fa7",
   "outputs": [
    {
     "name": "stdout",
     "output_type": "stream",
     "text": [
      "{\n",
      "  \"devices\": [\n",
      "    {\n",
      "      \"macAddress\": \"5b:20:36:32:33:30\",\n",
      "      \"deviceType\": \"DEVICE_TYPE_BLE\",\n",
      "      \"rssi\": 108,\n",
      "      \"timestamp\": 1663989857\n",
      "    },\n",
      "    {\n",
      "      \"macAddress\": \"70:70:3a:31:39:31\",\n",
      "      \"deviceType\": \"DEVICE_TYPE_BLE\",\n",
      "      \"rssi\": 97,\n",
      "      \"timestamp\": 1601467241\n",
      "    },\n",
      "    {\n",
      "      \"macAddress\": \"64:65:76:69:63:65\",\n",
      "      \"deviceType\": \"DEVICE_TYPE_BLE\",\n",
      "      \"rssi\": 108,\n",
      "      \"timestamp\": 542996577\n",
      "    },\n",
      "    {\n",
      "      \"macAddress\": \"5b:44:45:42:55:47\",\n",
      "      \"deviceType\": \"DEVICE_TYPE_BLE\",\n",
      "      \"rssi\": 99,\n",
      "      \"timestamp\": 1830840174\n",
      "    },\n",
      "    {\n",
      "      \"macAddress\": \"65:6d:6f:72:79:20\",\n",
      "      \"deviceType\": \"DEVICE_TYPE_BLE\",\n",
      "      \"rssi\": 100,\n",
      "      \"timestamp\": 544433507\n",
      "    },\n",
      "    {\n",
      "      \"macAddress\": \"28:31:38:30:20:62\",\n",
      "      \"deviceType\": \"DEVICE_TYPE_BLE\",\n",
      "      \"rssi\": 10,\n",
      "      \"timestamp\": 1070416276\n",
      "    },\n",
      "    {\n",
      "      \"macAddress\": \"3f:00:00:00:94:fc\",\n",
      "      \"deviceType\": \"DEVICE_TYPE_BLE\",\n",
      "      \"rssi\": 4,\n",
      "      \"timestamp\": 771817473\n",
      "    },\n",
      "    {\n",
      "      \"macAddress\": \"13:83:07:95:55:13\",\n",
      "      \"deviceType\": \"DEVICE_TYPE_BLE\",\n",
      "      \"rssi\": 12,\n",
      "      \"timestamp\": 527894288\n",
      "    },\n",
      "    {\n",
      "      \"macAddress\": \"5f:f2:47:b5:48:d2\",\n",
      "      \"deviceType\": \"DEVICE_TYPE_BLE\",\n",
      "      \"rssi\": 174,\n",
      "      \"timestamp\": 43\n",
      "    }\n",
      "  ],\n",
      "  \"count\": 9,\n",
      "  \"capacity\": 10\n",
      "}\n"
     ]
    }
   ],
   "execution_count": 7
  }
 ],
 "metadata": {
  "kernelspec": {
   "display_name": "Python 3",
   "language": "python",
   "name": "python3"
  },
  "language_info": {
   "codemirror_mode": {
    "name": "ipython",
    "version": 2
   },
   "file_extension": ".py",
   "mimetype": "text/x-python",
   "name": "python",
   "nbconvert_exporter": "python",
   "pygments_lexer": "ipython2",
   "version": "2.7.6"
  }
 },
 "nbformat": 4,
 "nbformat_minor": 5
}
